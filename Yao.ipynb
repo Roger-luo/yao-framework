{
 "cells": [
  {
   "cell_type": "markdown",
   "metadata": {
    "slideshow": {
     "slide_type": "slide"
    }
   },
   "source": [
    "  <center>\n",
    "\n",
    "<a href=\"https://github.com/QuantumBFS/Yao.jl\"><img alt=\"幺\" height=\"200\" src=\"https://quantumbfs.github.io/Yao.jl/latest/assets/logo.svg\" style=\"margin: 0; border: none; box-shadow: none; background: none;\" width=\"200\"></a>\n",
    "\n",
    "<h3>EXTENSIBLE EFFICIENT QUANTUM ALGORITHM DESIGN FOR HUMANS.</h3>\n",
    "\n",
    "\n",
    "</center>"
   ]
  },
  {
   "cell_type": "markdown",
   "metadata": {
    "slideshow": {
     "slide_type": "slide"
    }
   },
   "source": [
    "## Variational Quantum Algorithm"
   ]
  },
  {
   "cell_type": "markdown",
   "metadata": {
    "slideshow": {
     "slide_type": "subslide"
    }
   },
   "source": [
    "- Variational Quantum Eigensolver\n",
    "- Quantum Circuit Born Machine\n",
    "- Quantum Approximate Optimization Algorithm\n",
    "- Quantum Circuit Learning\n",
    "- etc."
   ]
  },
  {
   "cell_type": "markdown",
   "metadata": {
    "slideshow": {
     "slide_type": "subslide"
    }
   },
   "source": [
    "### Variational Quantum Eigensolver"
   ]
  },
  {
   "cell_type": "markdown",
   "metadata": {
    "slideshow": {
     "slide_type": "subslide"
    }
   },
   "source": [
    "![](https://riverlane.io/wp-content/uploads/image-2.png)"
   ]
  },
  {
   "cell_type": "markdown",
   "metadata": {
    "slideshow": {
     "slide_type": "subslide"
    }
   },
   "source": [
    "![](https://riverlane.io/wp-content/uploads/image-3.png)"
   ]
  },
  {
   "cell_type": "markdown",
   "metadata": {
    "slideshow": {
     "slide_type": "subslide"
    }
   },
   "source": [
    "### Quantum Circuit Born Machine (arxiv: 1804.04168)\n",
    "\n",
    "![](https://quantumbfs.github.io/Yao.jl/latest/assets/figures/differentiable.png)"
   ]
  },
  {
   "cell_type": "markdown",
   "metadata": {
    "slideshow": {
     "slide_type": "subslide"
    }
   },
   "source": [
    "### MPS based Generative Models (arxiv 1803.11537)\n",
    "\n",
    "![](assets/mps-circuit.png)"
   ]
  },
  {
   "cell_type": "markdown",
   "metadata": {
    "slideshow": {
     "slide_type": "subslide"
    }
   },
   "source": [
    "### A General Scheme for Variational Quantum Algorithms"
   ]
  },
  {
   "cell_type": "markdown",
   "metadata": {
    "slideshow": {
     "slide_type": "subslide"
    }
   },
   "source": [
    "![](https://qmlt.readthedocs.io/en/latest/_images/variational_detail.png)"
   ]
  },
  {
   "cell_type": "markdown",
   "metadata": {
    "slideshow": {
     "slide_type": "subslide"
    }
   },
   "source": [
    "### Requirements & Challenge"
   ]
  },
  {
   "cell_type": "markdown",
   "metadata": {
    "slideshow": {
     "slide_type": "subslide"
    }
   },
   "source": [
    "- **Automatic Differentiation** is required for calculating the gradient of the parameters\n",
    "- A flexible way of **dispatching parameters** is required.\n",
    "- **High performance** in simulating **6~20** qubits classically is required.\n",
    "- **Extensibility on customized feature** is crucial since there is not much analytical guidance yet."
   ]
  },
  {
   "cell_type": "markdown",
   "metadata": {
    "slideshow": {
     "slide_type": "subslide"
    }
   },
   "source": [
    "## Reference\n",
    "\n",
    "- [The full quantum computation stack](https://riverlane.io/news/the-full-quantum-computation-stack/)\n",
    "- [Documentation: Quantum Machine Learning Toolbox](https://qmlt.readthedocs.io/en/latest/variational.html)\n",
    "- [Variational Quantum Eigensolver](https://doi.org/10.1038/ncomms5213)\n",
    "- [Quantum Circuit Born Machine](https://arxiv.org/abs/1804.04168)\n",
    "- [Towards Quantum Machine Learning with Tensor Networks](https://arxiv.org/pdf/1803.11537.pdf)"
   ]
  },
  {
   "cell_type": "markdown",
   "metadata": {
    "slideshow": {
     "slide_type": "slide"
    }
   },
   "source": [
    "## Our solution: Yao.jl"
   ]
  },
  {
   "cell_type": "markdown",
   "metadata": {
    "slideshow": {
     "slide_type": "subslide"
    }
   },
   "source": [
    "### Automatic Differentiation & Parameter Dispatch"
   ]
  },
  {
   "cell_type": "code",
   "execution_count": null,
   "metadata": {},
   "outputs": [],
   "source": [
    "using Yao\n",
    "\n",
    "circuit = chain(4, repeat(4, H, 1:4), put(4, 3=>Rz(0.5)), control(2, 1=>X), put(4, 4=>Ry(0.2)))"
   ]
  },
  {
   "cell_type": "markdown",
   "metadata": {
    "slideshow": {
     "slide_type": "subslide"
    }
   },
   "source": [
    "Here, we demonstrate our AD with a random state input and a loss of the following operator $op$ as $\\langle\\psi|op|\\psi\\rangle$, the derivative will be\n",
    "\n",
    "$$\n",
    "\\frac{\\partial f}{\\partial \\theta} = 2\\mathcal{R}\\{\\frac{\\partial f}{\\partial \\psi^*}\\frac{\\partial \\psi^*}{\\partial \\theta}\\}\n",
    "$$"
   ]
  },
  {
   "cell_type": "code",
   "execution_count": null,
   "metadata": {},
   "outputs": [],
   "source": [
    "circuit = circuit |> autodiff(:BP)\n",
    "op = put(4, 3=>Y)\n",
    "ψ = rand_state(4)\n",
    "ψ |> circuit\n",
    "δ = ψ |> op # \n",
    "backward!(δ, circuit)\n",
    "gradient(circuit)"
   ]
  },
  {
   "cell_type": "markdown",
   "metadata": {
    "slideshow": {
     "slide_type": "subslide"
    }
   },
   "source": [
    "### Gather & Dispatch Parameters"
   ]
  },
  {
   "cell_type": "code",
   "execution_count": null,
   "metadata": {},
   "outputs": [],
   "source": [
    "parameters(circuit)"
   ]
  },
  {
   "cell_type": "code",
   "execution_count": null,
   "metadata": {},
   "outputs": [],
   "source": [
    "dispatch!(circuit, rand(2))"
   ]
  },
  {
   "cell_type": "markdown",
   "metadata": {
    "slideshow": {
     "slide_type": "subslide"
    }
   },
   "source": [
    "### High Performance\n"
   ]
  },
  {
   "cell_type": "markdown",
   "metadata": {
    "slideshow": {
     "slide_type": "subslide"
    }
   },
   "source": [
    "<div>\n",
    "<img alt=\"benchmark-1\" style=\"float: left;\" height=\"600\" src=\"https://quantumbfs.github.io/Yao.jl/stable/assets/benchmarks/xyz-bench.png\" style=\"margin: 0; border: none; box-shadow: none; background: none;\" width=\"400\">\n",
    "<img alt=\"benchmark-2\" style=\"float: right;\" height=\"600\" src=\"https://quantumbfs.github.io/Yao.jl/stable/assets/benchmarks/repeatxyz-bench.png\" style=\"margin: 0; border: none; box-shadow: none; background: none;\" width=\"400\">\n",
    "<img alt=\"benchmark-2\" style=\"float: left;\"  height=\"600\" src=\"https://quantumbfs.github.io/Yao.jl/stable/assets/benchmarks/cxyz-bench.png\" style=\"margin: 0; border: none; box-shadow: none; background: none;\" width=\"400\">\n",
    "</div>"
   ]
  },
  {
   "cell_type": "markdown",
   "metadata": {
    "slideshow": {
     "slide_type": "subslide"
    }
   },
   "source": [
    "#### More complex task\n",
    "\n",
    "1. [Dynamic Quantum Phase Transition](https://github.com/GiggleLiu/dynamicQPF): **4.3x** faster (comparing to ProjectQ)\n",
    "2. [Quantum Circuit Born Machine](https://github.com/QuantumBFS/CuYao.jl/issues/1): **62.4x** faster on NVIDIA Titan V on batched input states (comparing to Yao's own CPU)"
   ]
  },
  {
   "cell_type": "markdown",
   "metadata": {
    "slideshow": {
     "slide_type": "subslide"
    }
   },
   "source": [
    "### High Extensibility: Block Tree System\n",
    "\n",
    "The following code constructs a Quantum Fourier Transformation circuit from scratch."
   ]
  },
  {
   "cell_type": "markdown",
   "metadata": {
    "slideshow": {
     "slide_type": "subslide"
    }
   },
   "source": [
    "![](https://quantumbfs.github.io/Yao.jl/latest/assets/figures/qft.png)"
   ]
  },
  {
   "cell_type": "code",
   "execution_count": null,
   "metadata": {
    "slideshow": {
     "slide_type": "subslide"
    }
   },
   "outputs": [],
   "source": [
    "using Yao\n",
    "\n",
    "# Control-R(k) gate in block-A\n",
    "A(i::Int, j::Int, k::Int) = control(i, j=>shift(2π/(1<<k)))\n",
    "# block-B\n",
    "B(n::Int, i::Int) = chain(i==j ? kron(i=>H) : A(j, i, j-i+1) for j = i:n)\n",
    "QFT(n::Int) = chain(n, B(n, i) for i = 1:n)"
   ]
  },
  {
   "cell_type": "code",
   "execution_count": null,
   "metadata": {
    "slideshow": {
     "slide_type": "subslide"
    }
   },
   "outputs": [],
   "source": [
    "QFT(3)"
   ]
  },
  {
   "cell_type": "markdown",
   "metadata": {
    "slideshow": {
     "slide_type": "subslide"
    }
   },
   "source": [
    "Any circuit defined with Yao.jl is indenpendent from register, etc. You can always re-use what you defined, like a program."
   ]
  },
  {
   "cell_type": "code",
   "execution_count": null,
   "metadata": {
    "slideshow": {
     "slide_type": "subslide"
    }
   },
   "outputs": [],
   "source": [
    "chain(2, QFT(2), put(1=>H), QFT(2))"
   ]
  },
  {
   "cell_type": "markdown",
   "metadata": {
    "slideshow": {
     "slide_type": "subslide"
    }
   },
   "source": [
    "Or, you can define your own type for custom blocks just like other Julia types."
   ]
  },
  {
   "cell_type": "code",
   "execution_count": null,
   "metadata": {},
   "outputs": [],
   "source": [
    "using Yao.Blocks\n",
    "struct QFTBlock{N} <: PrimitiveBlock{N,ComplexF64} end\n",
    "\n",
    "get_circuit(::QFTBlock{N}) where N = QFT(N)\n",
    "Blocks.mat(c::QFTBlock) = mat(get_circuit(c))\n",
    "# apply!(register, blk::QFTBlock) = # QFT can be simulated efficiently by using FFT"
   ]
  },
  {
   "cell_type": "markdown",
   "metadata": {
    "slideshow": {
     "slide_type": "subslide"
    }
   },
   "source": [
    "And use it in other circuits like a sub-program"
   ]
  },
  {
   "cell_type": "code",
   "execution_count": null,
   "metadata": {},
   "outputs": [],
   "source": [
    "function PEBlock(UG::GeneralMatrixGate, n_reg::Int, n_b::Int)\n",
    "    nbit = n_b + n_reg\n",
    "    # Apply Hadamard Gate.\n",
    "    hs = repeat(nbit, H, 1:n_reg)\n",
    "\n",
    "    # Construct a control circuit.\n",
    "    control_circuit = chain(nbit)\n",
    "    for i = 1:n_reg\n",
    "        push!(control_circuit, control(nbit, (i,), (n_reg+1:nbit...,)=>UG))\n",
    "        if i != n_reg\n",
    "            UG = matrixgate(mat(UG) * mat(UG))\n",
    "        end\n",
    "    end\n",
    "\n",
    "    # Inverse QFT Block.\n",
    "    iqft = concentrate(nbit, QFTBlock{n_reg}() |> adjoint,[1:n_reg...,])\n",
    "    chain(hs, control_circuit, iqft)\n",
    "end"
   ]
  },
  {
   "cell_type": "markdown",
   "metadata": {
    "slideshow": {
     "slide_type": "subslide"
    }
   },
   "source": [
    "We now have a new kind of block inside the circuit: **QFTBlock**"
   ]
  },
  {
   "cell_type": "code",
   "execution_count": null,
   "metadata": {
    "slideshow": {
     "slide_type": "-"
    }
   },
   "outputs": [],
   "source": [
    "PEBlock(matrixgate(rand(2, 2)), 3, 1)"
   ]
  },
  {
   "cell_type": "markdown",
   "metadata": {
    "slideshow": {
     "slide_type": "subslide"
    }
   },
   "source": [
    "### Towards High Level Quantum Programming"
   ]
  },
  {
   "cell_type": "markdown",
   "metadata": {},
   "source": [
    "<div>\n",
    "    <img alt=\"block tree\" style=\"float: left;\" height=\"600\" src=\"assets/block-tree.png\" style=\"margin: 0; border: none; box-shadow: none; background: none;\" width=\"400\">\n",
    "<img alt=\"benchmark-1\" style=\"float: right;\" height=\"600\"      src=\"https://www.researchgate.net/profile/Peter_Fritzson/publication/228792639/figure/fig1/AS:393782852898820@1470896556105/Abstract-syntax-tree-of-the-while-loop_W640.jpg\" style=\"margin: 0; border: none; box-shadow: none; background: none;\" width=\"400\">\n",
    "</div>"
   ]
  },
  {
   "cell_type": "markdown",
   "metadata": {
    "slideshow": {
     "slide_type": "subslide"
    }
   },
   "source": [
    "### Heterogeneous Computing\n",
    "\n",
    "Our framework is natural on different hardware by making use of Julia's **type system** and **multiple dispatch**.\n",
    "\n",
    "\n",
    "```julia\n",
    "for MT in [:SDDiagonal, :SDPermMatrix, :AbstractMatrix, :IMatrix, :SDSparseMatrixCSC]\n",
    "@eval function u1apply!(state::CuVecOrMat, U1::$MT, ibit::Int)\n",
    "    kf = u1_kernel(U1, ibit::Int)\n",
    "    X, Y = cudiv(size(state)...)\n",
    "    @cuda threads=X blocks=Y simple_kernel(kf, state)\n",
    "    state\n",
    "end\n",
    "end\n",
    "```"
   ]
  },
  {
   "cell_type": "markdown",
   "metadata": {
    "slideshow": {
     "slide_type": "subslide"
    }
   },
   "source": [
    "#### Pure Julia Implementation\n",
    "\n",
    "Our framework is implemented in **pure Julia**, there is **no second language** involved, any part the framework is **easily readable and accessible**."
   ]
  },
  {
   "cell_type": "markdown",
   "metadata": {
    "slideshow": {
     "slide_type": "subslide"
    }
   },
   "source": [
    "### Demo: [Quantum Circuit Born Machine](https://quantumbfs.github.io/Yao.jl/latest/tutorial/QCBM/)"
   ]
  },
  {
   "cell_type": "markdown",
   "metadata": {
    "slideshow": {
     "slide_type": "slide"
    }
   },
   "source": [
    "## On-going Projects & Outlook"
   ]
  },
  {
   "cell_type": "markdown",
   "metadata": {
    "slideshow": {
     "slide_type": "subslide"
    }
   },
   "source": [
    "<center>\n",
    "![GSoC](https://3.bp.blogspot.com/-qbcVeQlCj54/W-xm_OlMg5I/AAAAAAAABu8/KCnTxayUm1Y3TlpcQFQbsNK5nA6K5M6pgCLcBGAs/s200/GSoC%2B-%2BVertical%2BNarrow%2B-%2BGray%2BText%2B-%2BWhite%2BBG.png)\n",
    "</center>\n",
    "- Noisy Circuit Simulation\n",
    "- Plotting\n",
    "- Tensor Network Based Quantum Circuit Simulation"
   ]
  },
  {
   "cell_type": "markdown",
   "metadata": {
    "slideshow": {
     "slide_type": "subslide"
    }
   },
   "source": [
    "### Outlook\n",
    "\n",
    "- Quantum circuit optimizer based on block tree data structure\n",
    "- Compile block tree to real hardware (QASM, Quil), hybrid computation via multiple hardware (quantum, CPU, GPU, TPU)\n",
    "- Distributed Computing via Julia `DistributedArrays`"
   ]
  },
  {
   "cell_type": "markdown",
   "metadata": {
    "slideshow": {
     "slide_type": "slide"
    }
   },
   "source": [
    "Follow us on Github: https://github.com/QuantumBFS"
   ]
  }
 ],
 "metadata": {
  "celltoolbar": "幻灯片",
  "kernelspec": {
   "display_name": "Julia 1.0.1",
   "language": "julia",
   "name": "julia-1.0"
  },
  "language_info": {
   "file_extension": ".jl",
   "mimetype": "application/julia",
   "name": "julia",
   "version": "1.0.1"
  }
 },
 "nbformat": 4,
 "nbformat_minor": 2
}
